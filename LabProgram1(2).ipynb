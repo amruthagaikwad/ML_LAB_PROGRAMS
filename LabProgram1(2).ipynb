{
 "cells": [
  {
   "cell_type": "code",
   "execution_count": 1,
   "metadata": {},
   "outputs": [
    {
     "name": "stdout",
     "output_type": "stream",
     "text": [
      "         Sky  AirTemp Humidity     Wind Water Forecast EnjoySport\n",
      "SI NO                                                            \n",
      "1      Sunny     Warm    Normal  Strong  Warm     Same        Yes\n",
      "2      Sunny     Warm      High  Strong  Warm     Same        Yes\n",
      "3       Rainy    Cold      High  Strong  Warm   Change         No\n",
      "4      Sunny     Warm      High  Strong  Cool   Change        Yes\n"
     ]
    },
    {
     "name": "stderr",
     "output_type": "stream",
     "text": [
      "C:\\Anaconda3\\lib\\site-packages\\ipykernel_launcher.py:3: FutureWarning: from_csv is deprecated. Please use read_csv(...) instead. Note that some of the default arguments are different, so please refer to the documentation for from_csv when changing your function calls\n",
      "  This is separate from the ipykernel package so we can avoid doing imports until\n"
     ]
    }
   ],
   "source": [
    "from pandas import DataFrame\n",
    "import csv\n",
    "data = DataFrame.from_csv('C:/Users/HP/Desktop/ML_4MT17CS014/Book1.csv')\n",
    "columnLength = data.shape[1]\n",
    "print(data)"
   ]
  },
  {
   "cell_type": "code",
   "execution_count": 2,
   "metadata": {},
   "outputs": [],
   "source": [
    "h = ['0']*(columnLength-1)\n",
    "hp = []\n",
    "hn = []"
   ]
  },
  {
   "cell_type": "code",
   "execution_count": 3,
   "metadata": {},
   "outputs": [],
   "source": [
    "for trainingExample in data.values:\n",
    "    if trainingExample[-1] != 'No':\n",
    "        hp.append(list(trainingExample))\n",
    "    else:\n",
    "        hn.append(list(trainingExample))"
   ]
  },
  {
   "cell_type": "code",
   "execution_count": 4,
   "metadata": {},
   "outputs": [],
   "source": [
    "for i in range (len(hp)):\n",
    "    for j in range(columnLength - 1):\n",
    "        if(h[j] == '0'):\n",
    "            h[j] = hp[i][j]\n",
    "        if(h[j] != hp[i][j]):\n",
    "            h[j] = '?'\n",
    "        else:\n",
    "            h[j] = hp[i][j]\n",
    "            "
   ]
  },
  {
   "cell_type": "code",
   "execution_count": 5,
   "metadata": {},
   "outputs": [
    {
     "name": "stdout",
     "output_type": "stream",
     "text": [
      "\n",
      " The positive Hypothesis are\n",
      "[['Sunny ', 'Warm', 'Normal', 'Strong', 'Warm', 'Same', 'Yes'], ['Sunny ', 'Warm', 'High', 'Strong', 'Warm', 'Same', 'Yes'], ['Sunny ', 'Warm', 'High', 'Strong', 'Cool', 'Change', 'Yes']]\n",
      "\n",
      " The negative Hypothesis are\n",
      "[['Rainy', 'Cold', 'High', 'Strong', 'Warm', 'Change', 'No']]\n",
      "\n",
      " The Maximally Specific Hypothesis is\n",
      "['Sunny ', 'Warm', '?', 'Strong', '?', '?']\n"
     ]
    }
   ],
   "source": [
    "print('\\n The positive Hypothesis are')\n",
    "print(hp)\n",
    "print('\\n The negative Hypothesis are')\n",
    "print(hn)\n",
    "print('\\n The Maximally Specific Hypothesis is')\n",
    "print(h)"
   ]
  },
  {
   "cell_type": "code",
   "execution_count": null,
   "metadata": {},
   "outputs": [],
   "source": []
  }
 ],
 "metadata": {
  "kernelspec": {
   "display_name": "Python 3",
   "language": "python",
   "name": "python3"
  },
  "language_info": {
   "codemirror_mode": {
    "name": "ipython",
    "version": 3
   },
   "file_extension": ".py",
   "mimetype": "text/x-python",
   "name": "python",
   "nbconvert_exporter": "python",
   "pygments_lexer": "ipython3",
   "version": "3.7.1"
  }
 },
 "nbformat": 4,
 "nbformat_minor": 2
}
